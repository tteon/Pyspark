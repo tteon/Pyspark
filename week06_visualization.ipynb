{
 "cells": [
  {
   "cell_type": "code",
   "execution_count": 3,
   "metadata": {},
   "outputs": [],
   "source": [
    "import findspark"
   ]
  },
  {
   "cell_type": "code",
   "execution_count": 4,
   "metadata": {},
   "outputs": [],
   "source": [
    "import pyspark"
   ]
  },
  {
   "cell_type": "code",
   "execution_count": 5,
   "metadata": {},
   "outputs": [],
   "source": [
    "spark = pyspark.sql.SparkSession.builder.master('local').getOrCreate()"
   ]
  },
  {
   "cell_type": "code",
   "execution_count": 6,
   "metadata": {},
   "outputs": [],
   "source": [
    "linesDF = spark.read \\\n",
    "        .format('csv') \\\n",
    "        .option('encoding', 'EUC-kr') \\\n",
    "        .option('header', 'False') \\\n",
    "        .option('sep', '\\n') \\\n",
    "        .load('/home/tteon/바탕화면/MisCurriculum.txt')"
   ]
  },
  {
   "cell_type": "code",
   "execution_count": 5,
   "metadata": {},
   "outputs": [
    {
     "data": {
      "text/plain": [
       "[Row(_c0='현대경영과기업가정신[(구)경영학원론]'),\n",
       " Row(_c0='(Contemporary Business and Entrepreurship)'),\n",
       " Row(_c0='자유자본주의 체제하에서의 기업경영과 관련된 전반적 개념을 연구한다. 구체적으로 경영환경을 포함하여 경영활동의 계획, 집행 및 통제기법과 그 밖에 개인 및 집단행동, 조직구조 등과 관련된 기초 원리를 연구한다. ')]"
      ]
     },
     "execution_count": 5,
     "metadata": {},
     "output_type": "execute_result"
    }
   ],
   "source": [
    "linesDF.take(3)"
   ]
  },
  {
   "cell_type": "code",
   "execution_count": 7,
   "metadata": {},
   "outputs": [],
   "source": [
    "import re"
   ]
  },
  {
   "cell_type": "code",
   "execution_count": 8,
   "metadata": {},
   "outputs": [],
   "source": [
    "# transformation lines to RDD\n",
    "linesRDD = linesDF.rdd"
   ]
  },
  {
   "cell_type": "code",
   "execution_count": 9,
   "metadata": {},
   "outputs": [],
   "source": [
    "wcRDD = linesRDD.map(lambda line: line[0]) \\\n",
    "        .flatMap(lambda line : re.split('\\\\W+', line)) \\\n",
    "        .filter(lambda word : len(word)>0) \\\n",
    "        .map(lambda word : (word,1)) \\\n",
    "        .reduceByKey(lambda v, w : v+w) \\\n",
    "        .sortBy(lambda vw : vw[1], False) \\"
   ]
  },
  {
   "cell_type": "code",
   "execution_count": 12,
   "metadata": {},
   "outputs": [],
   "source": [
    "# transformation RDD to DF\n",
    "wcDF = spark.createDataFrame(wcRDD)"
   ]
  },
  {
   "cell_type": "code",
   "execution_count": 13,
   "metadata": {},
   "outputs": [
    {
     "name": "stdout",
     "output_type": "stream",
     "text": [
      "root\n",
      " |-- _1: string (nullable = true)\n",
      " |-- _2: long (nullable = true)\n",
      "\n"
     ]
    }
   ],
   "source": [
    "wcDF.printSchema()"
   ]
  },
  {
   "cell_type": "code",
   "execution_count": 14,
   "metadata": {},
   "outputs": [
    {
     "name": "stdout",
     "output_type": "stream",
     "text": [
      "+--------+---+\n",
      "|      _1| _2|\n",
      "+--------+---+\n",
      "|      및| 41|\n",
      "|학습한다| 15|\n",
      "|Business| 14|\n",
      "+--------+---+\n",
      "only showing top 3 rows\n",
      "\n"
     ]
    }
   ],
   "source": [
    "wcDF.show(3)"
   ]
  },
  {
   "cell_type": "code",
   "execution_count": 15,
   "metadata": {},
   "outputs": [],
   "source": [
    "import pyspark.sql.functions as F"
   ]
  },
  {
   "cell_type": "code",
   "execution_count": 18,
   "metadata": {},
   "outputs": [],
   "source": [
    "wcDFnamed = wcDF.withColumnRenamed('_1', 'words')\\\n",
    "                 .withColumnRenamed('_2', 'freq')"
   ]
  },
  {
   "cell_type": "code",
   "execution_count": 20,
   "metadata": {},
   "outputs": [
    {
     "name": "stdout",
     "output_type": "stream",
     "text": [
      "root\n",
      " |-- words: string (nullable = true)\n",
      " |-- freq: long (nullable = true)\n",
      "\n"
     ]
    }
   ],
   "source": [
    "wcDFnamed.printSchema()"
   ]
  },
  {
   "cell_type": "code",
   "execution_count": 21,
   "metadata": {},
   "outputs": [
    {
     "name": "stdout",
     "output_type": "stream",
     "text": [
      "+--------+----+\n",
      "|   words|freq|\n",
      "+--------+----+\n",
      "|      및|  41|\n",
      "|학습한다|  15|\n",
      "|Business|  14|\n",
      "+--------+----+\n",
      "only showing top 3 rows\n",
      "\n"
     ]
    }
   ],
   "source": [
    "wcDFnamed.show(3)"
   ]
  },
  {
   "cell_type": "code",
   "execution_count": 22,
   "metadata": {},
   "outputs": [],
   "source": [
    "wcDFlength = wcDFnamed.withColumn('wordLen', F.length('words'))"
   ]
  },
  {
   "cell_type": "code",
   "execution_count": 23,
   "metadata": {},
   "outputs": [
    {
     "name": "stdout",
     "output_type": "stream",
     "text": [
      "+--------+----+-------+\n",
      "|   words|freq|wordLen|\n",
      "+--------+----+-------+\n",
      "|      및|  41|      1|\n",
      "|학습한다|  15|      4|\n",
      "|Business|  14|      8|\n",
      "+--------+----+-------+\n",
      "only showing top 3 rows\n",
      "\n"
     ]
    }
   ],
   "source": [
    "wcDFlength.show(3)"
   ]
  },
  {
   "cell_type": "code",
   "execution_count": 26,
   "metadata": {},
   "outputs": [
    {
     "name": "stdout",
     "output_type": "stream",
     "text": [
      "+-------+\n",
      "|wordLen|\n",
      "+-------+\n",
      "|      1|\n",
      "|      4|\n",
      "|      8|\n",
      "+-------+\n",
      "only showing top 3 rows\n",
      "\n"
     ]
    }
   ],
   "source": [
    "wcDFlength.select(F.col('wordLen')).show(3)"
   ]
  },
  {
   "cell_type": "code",
   "execution_count": 27,
   "metadata": {},
   "outputs": [
    {
     "name": "stdout",
     "output_type": "stream",
     "text": [
      "+--------+\n",
      "|   words|\n",
      "+--------+\n",
      "|      및|\n",
      "|학습한다|\n",
      "+--------+\n",
      "only showing top 2 rows\n",
      "\n"
     ]
    }
   ],
   "source": [
    "wcDFlength.select(wcDFlength.words).show(2)"
   ]
  },
  {
   "cell_type": "code",
   "execution_count": 28,
   "metadata": {},
   "outputs": [
    {
     "name": "stdout",
     "output_type": "stream",
     "text": [
      "+--------+\n",
      "|   words|\n",
      "+--------+\n",
      "|      및|\n",
      "|학습한다|\n",
      "+--------+\n",
      "only showing top 2 rows\n",
      "\n"
     ]
    }
   ],
   "source": [
    "wcDFlength.select('words').show(2)"
   ]
  },
  {
   "cell_type": "code",
   "execution_count": 30,
   "metadata": {},
   "outputs": [
    {
     "name": "stdout",
     "output_type": "stream",
     "text": [
      "+-----+----+-------+\n",
      "|words|freq|wordLen|\n",
      "+-----+----+-------+\n",
      "|   및|  41|      1|\n",
      "|   수|  11|      1|\n",
      "|   본|   8|      1|\n",
      "|   등|   8|      1|\n",
      "|   그|   3|      1|\n",
      "|   이|   3|      1|\n",
      "|   함|   3|      1|\n",
      "|   의|   2|      1|\n",
      "|   내|   2|      1|\n",
      "|   구|   1|      1|\n",
      "|   신|   1|      1|\n",
      "|    I|   1|      1|\n",
      "|    R|   1|      1|\n",
      "|   더|   1|      1|\n",
      "|   후|   1|      1|\n",
      "|   팀|   1|      1|\n",
      "|   각|   1|      1|\n",
      "|   할|   1|      1|\n",
      "|   로|   1|      1|\n",
      "|   롤|   1|      1|\n",
      "+-----+----+-------+\n",
      "only showing top 20 rows\n",
      "\n"
     ]
    }
   ],
   "source": [
    "wcDFlength.filter(F.col('wordLen') <= 1).show()"
   ]
  },
  {
   "cell_type": "code",
   "execution_count": 31,
   "metadata": {},
   "outputs": [
    {
     "name": "stdout",
     "output_type": "stream",
     "text": [
      "+-----+----+-------+\n",
      "|words|freq|wordLen|\n",
      "+-----+----+-------+\n",
      "|   및|  41|      1|\n",
      "|   수|  11|      1|\n",
      "|   본|   8|      1|\n",
      "|   등|   8|      1|\n",
      "|   그|   3|      1|\n",
      "|   이|   3|      1|\n",
      "|   함|   3|      1|\n",
      "|   의|   2|      1|\n",
      "|   내|   2|      1|\n",
      "|   구|   1|      1|\n",
      "|   신|   1|      1|\n",
      "|    I|   1|      1|\n",
      "|    R|   1|      1|\n",
      "|   더|   1|      1|\n",
      "|   후|   1|      1|\n",
      "|   팀|   1|      1|\n",
      "|   각|   1|      1|\n",
      "|   할|   1|      1|\n",
      "|   로|   1|      1|\n",
      "|   롤|   1|      1|\n",
      "+-----+----+-------+\n",
      "only showing top 20 rows\n",
      "\n"
     ]
    }
   ],
   "source": [
    "wcDFlength.filter(wcDFlength.wordLen <= 1).show()"
   ]
  },
  {
   "cell_type": "code",
   "execution_count": 44,
   "metadata": {},
   "outputs": [
    {
     "name": "stdout",
     "output_type": "stream",
     "text": [
      "+----------+----+-------+\n",
      "|     words|freq|wordLen|\n",
      "+----------+----+-------+\n",
      "|        및|  41|      1|\n",
      "|  학습한다|  15|      4|\n",
      "|  Business|  14|      8|\n",
      "|      등을|  13|      2|\n",
      "|      대한|  12|      2|\n",
      "|      분석|  11|      2|\n",
      "|        수|  11|      1|\n",
      "|      이를|  11|      2|\n",
      "|Management|  11|     10|\n",
      "|  공부한다|  10|      4|\n",
      "|    다양한|   9|      3|\n",
      "|      위해|   9|      2|\n",
      "|      한다|   9|      2|\n",
      "|        IT|   9|      2|\n",
      "|       and|   8|      3|\n",
      "|        본|   8|      1|\n",
      "|  목적으로|   8|      4|\n",
      "|    이론을|   8|      3|\n",
      "|        등|   8|      1|\n",
      "|    디지털|   8|      3|\n",
      "+----------+----+-------+\n",
      "only showing top 20 rows\n",
      "\n"
     ]
    }
   ],
   "source": [
    "wcDFlength.filter(wcDFlength.wordLen >= 1).show()"
   ]
  },
  {
   "cell_type": "code",
   "execution_count": null,
   "metadata": {},
   "outputs": [],
   "source": []
  },
  {
   "cell_type": "code",
   "execution_count": 40,
   "metadata": {},
   "outputs": [],
   "source": [
    "# agg function and show average using 'F.avg'\n",
    "wordLengthFrequency = wcDFlength\\\n",
    "                     .groupby(F.col('wordLen'))\\\n",
    "                     .agg(F.count(F.col('freq')), F.avg(F.col('freq')))\\\n",
    "                     .orderBy(F.col('wordLen'))"
   ]
  },
  {
   "cell_type": "code",
   "execution_count": 41,
   "metadata": {},
   "outputs": [
    {
     "name": "stdout",
     "output_type": "stream",
     "text": [
      "+-------+-----------+------------------+\n",
      "|wordLen|count(freq)|         avg(freq)|\n",
      "+-------+-----------+------------------+\n",
      "|      1|         23| 4.130434782608695|\n",
      "|      2|        197|2.1319796954314723|\n",
      "|      3|        308|1.4545454545454546|\n",
      "|      4|        216|1.4953703703703705|\n",
      "|      5|        128|         1.2109375|\n",
      "|      6|         53| 1.320754716981132|\n",
      "|      7|         31|1.1935483870967742|\n",
      "|      8|         22|1.9090909090909092|\n",
      "|      9|         13|1.2307692307692308|\n",
      "|     10|         15|1.7333333333333334|\n",
      "|     11|          8|             1.625|\n",
      "|     12|          6|1.1666666666666667|\n",
      "|     13|          4|               1.0|\n",
      "|     14|          2|               1.0|\n",
      "+-------+-----------+------------------+\n",
      "\n"
     ]
    }
   ],
   "source": [
    "wordLengthFrequency.show()"
   ]
  },
  {
   "cell_type": "code",
   "execution_count": 42,
   "metadata": {},
   "outputs": [],
   "source": [
    "# plus argument 'F.sum'\n",
    "wordLengthFrequency2 = wcDFlength\\\n",
    "                     .groupby(F.col('wordLen'))\\\n",
    "                     .agg(F.count(F.col('freq')), F.avg(F.col('freq')), F.sum(F.col('freq')))\\\n",
    "                     .orderBy(F.col('wordLen'))"
   ]
  },
  {
   "cell_type": "code",
   "execution_count": 43,
   "metadata": {},
   "outputs": [
    {
     "name": "stdout",
     "output_type": "stream",
     "text": [
      "+-------+-----------+------------------+---------+\n",
      "|wordLen|count(freq)|         avg(freq)|sum(freq)|\n",
      "+-------+-----------+------------------+---------+\n",
      "|      1|         23| 4.130434782608695|       95|\n",
      "|      2|        197|2.1319796954314723|      420|\n",
      "|      3|        308|1.4545454545454546|      448|\n",
      "|      4|        216|1.4953703703703705|      323|\n",
      "|      5|        128|         1.2109375|      155|\n",
      "|      6|         53| 1.320754716981132|       70|\n",
      "|      7|         31|1.1935483870967742|       37|\n",
      "|      8|         22|1.9090909090909092|       42|\n",
      "|      9|         13|1.2307692307692308|       16|\n",
      "|     10|         15|1.7333333333333334|       26|\n",
      "|     11|          8|             1.625|       13|\n",
      "|     12|          6|1.1666666666666667|        7|\n",
      "|     13|          4|               1.0|        4|\n",
      "|     14|          2|               1.0|        2|\n",
      "+-------+-----------+------------------+---------+\n",
      "\n"
     ]
    }
   ],
   "source": [
    "wordLengthFrequency2.show()"
   ]
  },
  {
   "cell_type": "code",
   "execution_count": 8,
   "metadata": {},
   "outputs": [],
   "source": [
    "top20Words=linesRDD.map(lambda line: line[0]) \\\n",
    "        .flatMap(lambda line : re.split('\\\\W+', line)) \\\n",
    "        .filter(lambda word : len(word)>0) \\\n",
    "        .map(lambda word : (word,1)) \\\n",
    "        .reduceByKey(lambda v, w : v+w) \\\n",
    "        .sortBy(lambda vw : vw[1], False) \\\n",
    "        .take(20)"
   ]
  },
  {
   "cell_type": "code",
   "execution_count": 9,
   "metadata": {},
   "outputs": [
    {
     "data": {
      "text/plain": [
       "[('및', 41),\n",
       " ('학습한다', 15),\n",
       " ('Business', 14),\n",
       " ('등을', 13),\n",
       " ('대한', 12),\n",
       " ('분석', 11),\n",
       " ('수', 11),\n",
       " ('이를', 11),\n",
       " ('Management', 11),\n",
       " ('공부한다', 10),\n",
       " ('다양한', 9),\n",
       " ('위해', 9),\n",
       " ('한다', 9),\n",
       " ('IT', 9),\n",
       " ('and', 8),\n",
       " ('본', 8),\n",
       " ('목적으로', 8),\n",
       " ('이론을', 8),\n",
       " ('등', 8),\n",
       " ('디지털', 8)]"
      ]
     },
     "execution_count": 9,
     "metadata": {},
     "output_type": "execute_result"
    }
   ],
   "source": [
    "top20Words"
   ]
  },
  {
   "cell_type": "code",
   "execution_count": 10,
   "metadata": {},
   "outputs": [],
   "source": [
    "import matplotlib.pyplot as plt\n",
    "%matplotlib inline"
   ]
  },
  {
   "cell_type": "code",
   "execution_count": 11,
   "metadata": {},
   "outputs": [],
   "source": [
    "x = []\n",
    "y = []"
   ]
  },
  {
   "cell_type": "code",
   "execution_count": 12,
   "metadata": {},
   "outputs": [],
   "source": [
    "for (w , c) in top20Words:\n",
    "    x.append(w)\n",
    "    y.append(c)"
   ]
  },
  {
   "cell_type": "code",
   "execution_count": 13,
   "metadata": {},
   "outputs": [],
   "source": [
    "from matplotlib import font_manager\n",
    "fontpath = '/home/tteon/바탕화면/NanumBarunGothic.ttf'\n",
    "fontprop = font_manager.FontProperties(fname=fontpath)"
   ]
  },
  {
   "cell_type": "code",
   "execution_count": 17,
   "metadata": {},
   "outputs": [
    {
     "data": {
      "image/png": "[encoded data removed]",
      "text/plain": [
       "<Figure size 432x288 with 1 Axes>"
      ]
     },
     "metadata": {
      "needs_background": "light"
     },
     "output_type": "display_data"
    }
   ],
   "source": [
    "plt.bar(x,y)\n",
    "plt.title('wordscount_visualization_barsection')\n",
    "plt.xlabel('wordcount', color='blue')\n",
    "plt.ylabel('volume' , color='gray')\n",
    "plt.grid(True)\n",
    "plt.xticks(rotation='vertical', fontproperties=fontprop)\n",
    "plt.show()"
   ]
  },
  {
   "cell_type": "code",
   "execution_count": 18,
   "metadata": {},
   "outputs": [
    {
     "data": {
      "image/png": "[encoded data removed]",
      "text/plain": [
       "<Figure size 432x288 with 1 Axes>"
      ]
     },
     "metadata": {
      "needs_background": "light"
     },
     "output_type": "display_data"
    }
   ],
   "source": [
    "plt.plot(x,y)\n",
    "plt.title('wordscount_visulization_linesection')\n",
    "plt.xlabel('wordcount', color= 'gray')\n",
    "plt.ylabel('volume' , color = 'blue')\n",
    "plt.grid(True)\n",
    "plt.xticks(rotation='vertical', fontproperties=fontprop)\n",
    "plt.show()"
   ]
  },
  {
   "cell_type": "code",
   "execution_count": 19,
   "metadata": {},
   "outputs": [],
   "source": [
    "linesDF_E = spark.read \\\n",
    "        .format('csv') \\\n",
    "        .option('header' , False) \\\n",
    "        .option('sep', '\\n') \\\n",
    "        .load('/home/tteon/바탕화면/t_bbe.csv')"
   ]
  },
  {
   "cell_type": "code",
   "execution_count": 20,
   "metadata": {},
   "outputs": [
    {
     "data": {
      "text/plain": [
       "[Row(_c0='field,field,field,field,field'),\n",
       " Row(_c0='\"01001001\",\"1\",\"1\",\"1\",\"At the first God made the heaven and the earth.\"'),\n",
       " Row(_c0='\"01001002\",\"1\",\"1\",\"2\",\"And the earth was waste and without form; and it was dark on the face of the deep: and the Spirit of God was moving on the face of the waters.\"'),\n",
       " Row(_c0='\"01001003\",\"1\",\"1\",\"3\",\"And God said, Let there be light: and there was light.\"'),\n",
       " Row(_c0='\"01001004\",\"1\",\"1\",\"4\",\"And God, looking on the light, saw that it was good: and God made a division between the light and the dark,\"')]"
      ]
     },
     "execution_count": 20,
     "metadata": {},
     "output_type": "execute_result"
    }
   ],
   "source": [
    "linesDF_E.take(5)"
   ]
  },
  {
   "cell_type": "code",
   "execution_count": 21,
   "metadata": {},
   "outputs": [],
   "source": [
    "linesRDD_E = linesDF_E.rdd"
   ]
  },
  {
   "cell_type": "code",
   "execution_count": 22,
   "metadata": {},
   "outputs": [],
   "source": [
    "top20Words_E=linesRDD_E.map(lambda line: line[0]) \\\n",
    "            .flatMap(lambda line : re.split('\\\\W+', line)) \\\n",
    "            .filter(lambda word : len(word)>0) \\\n",
    "            .map(lambda word : (word,1)) \\\n",
    "            .reduceByKey(lambda v, w : v+w) \\\n",
    "            .sortBy(lambda vw : vw[1], False) \\\n",
    "            .take(20)"
   ]
  },
  {
   "cell_type": "code",
   "execution_count": 23,
   "metadata": {},
   "outputs": [
    {
     "data": {
      "text/plain": [
       "[('the', 63800),\n",
       " ('of', 37714),\n",
       " ('and', 33405),\n",
       " ('to', 26327),\n",
       " ('in', 14782),\n",
       " ('you', 12231),\n",
       " ('And', 11577),\n",
       " ('will', 10596),\n",
       " ('a', 10436),\n",
       " ('for', 10327),\n",
       " ('is', 10127),\n",
       " ('his', 9257),\n",
       " ('be', 8972),\n",
       " ('he', 8500),\n",
       " ('I', 7811),\n",
       " ('your', 7655),\n",
       " ('Lord', 7633),\n",
       " ('on', 6890),\n",
       " ('have', 6890),\n",
       " ('him', 6119)]"
      ]
     },
     "execution_count": 23,
     "metadata": {},
     "output_type": "execute_result"
    }
   ],
   "source": [
    "top20Words_E"
   ]
  },
  {
   "cell_type": "code",
   "execution_count": 24,
   "metadata": {},
   "outputs": [],
   "source": [
    "a = []\n",
    "b = []"
   ]
  },
  {
   "cell_type": "code",
   "execution_count": 25,
   "metadata": {},
   "outputs": [],
   "source": [
    "for (w , c) in top20Words_E:\n",
    "    a.append(w)\n",
    "    b.append(c)"
   ]
  },
  {
   "cell_type": "code",
   "execution_count": 26,
   "metadata": {},
   "outputs": [
    {
     "data": {
      "image/png": "[encoded data removed]",
      "text/plain": [
       "<Figure size 432x288 with 1 Axes>"
      ]
     },
     "metadata": {
      "needs_background": "light"
     },
     "output_type": "display_data"
    }
   ],
   "source": [
    "plt.bar(a,b)\n",
    "plt.title('bible_frequency')\n",
    "plt.xlabel('wordcount', color='blue')\n",
    "plt.ylabel('volume' , color='gray')\n",
    "plt.grid(True)\n",
    "plt.xticks(rotation='vertical')\n",
    "plt.show()"
   ]
  },
  {
   "cell_type": "code",
   "execution_count": 27,
   "metadata": {},
   "outputs": [
    {
     "data": {
      "image/png": "[encoded data removed]",
      "text/plain": [
       "<Figure size 432x288 with 1 Axes>"
      ]
     },
     "metadata": {
      "needs_background": "light"
     },
     "output_type": "display_data"
    }
   ],
   "source": [
    "plt.plot(a,b)\n",
    "plt.title('bible_frequency')\n",
    "plt.xlabel('wordcount', color= 'gray')\n",
    "plt.ylabel('volume' , color = 'blue')\n",
    "plt.grid(True)\n",
    "plt.xticks(rotation='vertical')\n",
    "plt.show()"
   ]
  },
  {
   "cell_type": "code",
   "execution_count": null,
   "metadata": {},
   "outputs": [],
   "source": []
  },
  {
   "cell_type": "code",
   "execution_count": null,
   "metadata": {},
   "outputs": [],
   "source": []
  },
  {
   "cell_type": "code",
   "execution_count": null,
   "metadata": {},
   "outputs": [],
   "source": []
  },
  {
   "cell_type": "code",
   "execution_count": null,
   "metadata": {},
   "outputs": [],
   "source": []
  },
  {
   "cell_type": "code",
   "execution_count": null,
   "metadata": {},
   "outputs": [],
   "source": []
  }
 ],
 "metadata": {
  "kernelspec": {
   "display_name": "Python 3",
   "language": "python",
   "name": "python3"
  },
  "language_info": {
   "codemirror_mode": {
    "name": "ipython",
    "version": 3
   },
   "file_extension": ".py",
   "mimetype": "text/x-python",
   "name": "python",
   "nbconvert_exporter": "python",
   "pygments_lexer": "ipython3",
   "version": "3.7.6"
  }
 },
 "nbformat": 4,
 "nbformat_minor": 4
}
